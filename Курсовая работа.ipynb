{
 "cells": [
  {
   "cell_type": "markdown",
   "metadata": {},
   "source": [
    "####   D (англ. delete) — удалить,\n",
    "####   I (англ. insert) — вставить,\n",
    "####   R (replace) — заменить,\n",
    "####   M (match) — совпадение.\n",
    "\n",
    "####   w(a, а) = 0\n",
    "####   w(a, b) = по формуле при a≠b - цена замены символа a на символ b\n",
    "####   w(ε, b) = 1 - цена вставки символа b\n",
    "####   w(a, ε) = 1 - цена удаления символа a"
   ]
  },
  {
   "cell_type": "code",
   "execution_count": 1,
   "metadata": {},
   "outputs": [],
   "source": [
    "import numpy as np\n",
    "import pandas as pd\n",
    "import itertools\n",
    "import copy"
   ]
  },
  {
   "cell_type": "markdown",
   "metadata": {},
   "source": [
    "# the Levenshtein distance"
   ]
  },
  {
   "cell_type": "markdown",
   "metadata": {},
   "source": [
    "Таблица всех звуков, преобразую ее."
   ]
  },
  {
   "cell_type": "code",
   "execution_count": 2,
   "metadata": {},
   "outputs": [],
   "source": [
    "data = pd.read_csv('fon_table.csv/Лист 1-Tаблица 1.csv')\n",
    "data = data.set_index('name')\n",
    "data = data.transpose()\n",
    "data = data.fillna('None')\n",
    "data = pd.DataFrame(data)"
   ]
  },
  {
   "cell_type": "markdown",
   "metadata": {},
   "source": [
    "Создаю будущую матрицу расстояний."
   ]
  },
  {
   "cell_type": "code",
   "execution_count": 3,
   "metadata": {},
   "outputs": [],
   "source": [
    "dist_matrix = pd.DataFrame(np.zeros((54, 54)))#, dtype=int))"
   ]
  },
  {
   "cell_type": "code",
   "execution_count": 4,
   "metadata": {},
   "outputs": [],
   "source": [
    "column_names = {}\n",
    "for i in range(0, 54):\n",
    "    column_names[i] = data.columns.tolist()[i]"
   ]
  },
  {
   "cell_type": "code",
   "execution_count": 5,
   "metadata": {},
   "outputs": [],
   "source": [
    "dist_matrix = dist_matrix.rename(index=str, columns=column_names)\n",
    "dist_matrix['index'] = data.columns.tolist()\n",
    "dist_matrix = dist_matrix.set_index('index')"
   ]
  },
  {
   "cell_type": "markdown",
   "metadata": {},
   "source": [
    "Заполняю клеточки в таблице результатами формулы"
   ]
  },
  {
   "cell_type": "markdown",
   "metadata": {},
   "source": [
    "1 - S_rows/ C_rows + Unc_rows*2 "
   ]
  },
  {
   "cell_type": "code",
   "execution_count": 6,
   "metadata": {},
   "outputs": [],
   "source": [
    "comobinations = itertools.combinations_with_replacement(data.columns, 2) # - все возможные комбинации"
   ]
  },
  {
   "cell_type": "code",
   "execution_count": 7,
   "metadata": {},
   "outputs": [],
   "source": [
    "for i in comobinations:\n",
    "\n",
    "    a1 = pd.get_dummies(data[i[0]]).drop(['None'], axis=1)\n",
    "    a = a1.loc[~(a1==0).all(axis=1)]\n",
    "    b1 = pd.get_dummies(data[i[1]]).drop(['None'], axis=1)\n",
    "    b = b1.loc[~(b1==0).all(axis=1)]\n",
    "    \n",
    "    dif_a = a.index.difference(b.index)\n",
    "    similar = a.index.difference(dif_a)\n",
    "    \n",
    "    d = a.loc[similar] + b.loc[similar]\n",
    "    s_rows = 0\n",
    "    counts = d['+'].value_counts()\n",
    "\n",
    "    if 0 in counts:\n",
    "        s_rows += counts[0]\n",
    "    if 2 in counts:\n",
    "        s_rows += counts[2]\n",
    "    \n",
    "                        # common                uncommon\n",
    "    result = 1 - s_rows/(len(similar) + (a.shape[0] + b.shape[0] - 2*len(similar)))# * 2)\n",
    "\n",
    "    dist_matrix[i[0]][i[1]] = result\n",
    "    dist_matrix[i[1]][i[0]] = result\n"
   ]
  },
  {
   "cell_type": "markdown",
   "metadata": {},
   "source": [
    "Итог"
   ]
  },
  {
   "cell_type": "code",
   "execution_count": 8,
   "metadata": {},
   "outputs": [
    {
     "data": {
      "text/html": [
       "<div>\n",
       "<style>\n",
       "    .dataframe thead tr:only-child th {\n",
       "        text-align: right;\n",
       "    }\n",
       "\n",
       "    .dataframe thead th {\n",
       "        text-align: left;\n",
       "    }\n",
       "\n",
       "    .dataframe tbody tr th {\n",
       "        vertical-align: top;\n",
       "    }\n",
       "</style>\n",
       "<table border=\"1\" class=\"dataframe\">\n",
       "  <thead>\n",
       "    <tr style=\"text-align: right;\">\n",
       "      <th></th>\n",
       "      <th>и</th>\n",
       "      <th>ы</th>\n",
       "      <th>е</th>\n",
       "      <th>э</th>\n",
       "      <th>ä</th>\n",
       "      <th>а</th>\n",
       "      <th>у</th>\n",
       "      <th>у_1</th>\n",
       "      <th>о</th>\n",
       "      <th>ъ</th>\n",
       "      <th>...</th>\n",
       "      <th>р’</th>\n",
       "      <th>j</th>\n",
       "      <th>к</th>\n",
       "      <th>к’</th>\n",
       "      <th>г</th>\n",
       "      <th>г’</th>\n",
       "      <th>х</th>\n",
       "      <th>х’</th>\n",
       "      <th>ɣ</th>\n",
       "      <th>ŋ</th>\n",
       "    </tr>\n",
       "    <tr>\n",
       "      <th>index</th>\n",
       "      <th></th>\n",
       "      <th></th>\n",
       "      <th></th>\n",
       "      <th></th>\n",
       "      <th></th>\n",
       "      <th></th>\n",
       "      <th></th>\n",
       "      <th></th>\n",
       "      <th></th>\n",
       "      <th></th>\n",
       "      <th></th>\n",
       "      <th></th>\n",
       "      <th></th>\n",
       "      <th></th>\n",
       "      <th></th>\n",
       "      <th></th>\n",
       "      <th></th>\n",
       "      <th></th>\n",
       "      <th></th>\n",
       "      <th></th>\n",
       "      <th></th>\n",
       "    </tr>\n",
       "  </thead>\n",
       "  <tbody>\n",
       "    <tr>\n",
       "      <th>и</th>\n",
       "      <td>0.000</td>\n",
       "      <td>0.125</td>\n",
       "      <td>0.125</td>\n",
       "      <td>0.250</td>\n",
       "      <td>0.250</td>\n",
       "      <td>0.375</td>\n",
       "      <td>0.250</td>\n",
       "      <td>0.125</td>\n",
       "      <td>0.375</td>\n",
       "      <td>0.375</td>\n",
       "      <td>...</td>\n",
       "      <td>0.785714</td>\n",
       "      <td>0.846154</td>\n",
       "      <td>1.000000</td>\n",
       "      <td>0.933333</td>\n",
       "      <td>1.000000</td>\n",
       "      <td>0.933333</td>\n",
       "      <td>1.000000</td>\n",
       "      <td>0.928571</td>\n",
       "      <td>1.000000</td>\n",
       "      <td>0.928571</td>\n",
       "    </tr>\n",
       "    <tr>\n",
       "      <th>ы</th>\n",
       "      <td>0.125</td>\n",
       "      <td>0.000</td>\n",
       "      <td>0.250</td>\n",
       "      <td>0.125</td>\n",
       "      <td>0.375</td>\n",
       "      <td>0.250</td>\n",
       "      <td>0.125</td>\n",
       "      <td>0.250</td>\n",
       "      <td>0.250</td>\n",
       "      <td>0.250</td>\n",
       "      <td>...</td>\n",
       "      <td>0.857143</td>\n",
       "      <td>0.923077</td>\n",
       "      <td>0.933333</td>\n",
       "      <td>1.000000</td>\n",
       "      <td>0.933333</td>\n",
       "      <td>1.000000</td>\n",
       "      <td>0.928571</td>\n",
       "      <td>1.000000</td>\n",
       "      <td>0.928571</td>\n",
       "      <td>0.857143</td>\n",
       "    </tr>\n",
       "    <tr>\n",
       "      <th>е</th>\n",
       "      <td>0.125</td>\n",
       "      <td>0.250</td>\n",
       "      <td>0.000</td>\n",
       "      <td>0.125</td>\n",
       "      <td>0.125</td>\n",
       "      <td>0.250</td>\n",
       "      <td>0.375</td>\n",
       "      <td>0.250</td>\n",
       "      <td>0.250</td>\n",
       "      <td>0.250</td>\n",
       "      <td>...</td>\n",
       "      <td>0.785714</td>\n",
       "      <td>0.846154</td>\n",
       "      <td>1.000000</td>\n",
       "      <td>0.933333</td>\n",
       "      <td>1.000000</td>\n",
       "      <td>0.933333</td>\n",
       "      <td>1.000000</td>\n",
       "      <td>0.928571</td>\n",
       "      <td>1.000000</td>\n",
       "      <td>0.928571</td>\n",
       "    </tr>\n",
       "    <tr>\n",
       "      <th>э</th>\n",
       "      <td>0.250</td>\n",
       "      <td>0.125</td>\n",
       "      <td>0.125</td>\n",
       "      <td>0.000</td>\n",
       "      <td>0.250</td>\n",
       "      <td>0.125</td>\n",
       "      <td>0.250</td>\n",
       "      <td>0.375</td>\n",
       "      <td>0.125</td>\n",
       "      <td>0.125</td>\n",
       "      <td>...</td>\n",
       "      <td>0.857143</td>\n",
       "      <td>0.923077</td>\n",
       "      <td>0.933333</td>\n",
       "      <td>1.000000</td>\n",
       "      <td>0.933333</td>\n",
       "      <td>1.000000</td>\n",
       "      <td>0.928571</td>\n",
       "      <td>1.000000</td>\n",
       "      <td>0.928571</td>\n",
       "      <td>0.857143</td>\n",
       "    </tr>\n",
       "    <tr>\n",
       "      <th>ä</th>\n",
       "      <td>0.250</td>\n",
       "      <td>0.375</td>\n",
       "      <td>0.125</td>\n",
       "      <td>0.250</td>\n",
       "      <td>0.000</td>\n",
       "      <td>0.125</td>\n",
       "      <td>0.500</td>\n",
       "      <td>0.375</td>\n",
       "      <td>0.375</td>\n",
       "      <td>0.375</td>\n",
       "      <td>...</td>\n",
       "      <td>0.785714</td>\n",
       "      <td>0.846154</td>\n",
       "      <td>1.000000</td>\n",
       "      <td>0.933333</td>\n",
       "      <td>1.000000</td>\n",
       "      <td>0.933333</td>\n",
       "      <td>1.000000</td>\n",
       "      <td>0.928571</td>\n",
       "      <td>1.000000</td>\n",
       "      <td>0.928571</td>\n",
       "    </tr>\n",
       "  </tbody>\n",
       "</table>\n",
       "<p>5 rows × 54 columns</p>\n",
       "</div>"
      ],
      "text/plain": [
       "           и      ы      е      э      ä      а      у    у_1      о      ъ  \\\n",
       "index                                                                         \n",
       "и      0.000  0.125  0.125  0.250  0.250  0.375  0.250  0.125  0.375  0.375   \n",
       "ы      0.125  0.000  0.250  0.125  0.375  0.250  0.125  0.250  0.250  0.250   \n",
       "е      0.125  0.250  0.000  0.125  0.125  0.250  0.375  0.250  0.250  0.250   \n",
       "э      0.250  0.125  0.125  0.000  0.250  0.125  0.250  0.375  0.125  0.125   \n",
       "ä      0.250  0.375  0.125  0.250  0.000  0.125  0.500  0.375  0.375  0.375   \n",
       "\n",
       "         ...           р’         j         к        к’         г        г’  \\\n",
       "index    ...                                                                  \n",
       "и        ...     0.785714  0.846154  1.000000  0.933333  1.000000  0.933333   \n",
       "ы        ...     0.857143  0.923077  0.933333  1.000000  0.933333  1.000000   \n",
       "е        ...     0.785714  0.846154  1.000000  0.933333  1.000000  0.933333   \n",
       "э        ...     0.857143  0.923077  0.933333  1.000000  0.933333  1.000000   \n",
       "ä        ...     0.785714  0.846154  1.000000  0.933333  1.000000  0.933333   \n",
       "\n",
       "              х        х’         ɣ         ŋ  \n",
       "index                                          \n",
       "и      1.000000  0.928571  1.000000  0.928571  \n",
       "ы      0.928571  1.000000  0.928571  0.857143  \n",
       "е      1.000000  0.928571  1.000000  0.928571  \n",
       "э      0.928571  1.000000  0.928571  0.857143  \n",
       "ä      1.000000  0.928571  1.000000  0.928571  \n",
       "\n",
       "[5 rows x 54 columns]"
      ]
     },
     "execution_count": 8,
     "metadata": {},
     "output_type": "execute_result"
    }
   ],
   "source": [
    "dist_matrix.head()"
   ]
  },
  {
   "cell_type": "markdown",
   "metadata": {},
   "source": [
    "##### Расстояние Левенштейна.\n",
    "\n",
    "\n",
    "Я разобралась с визуализацией расстояния (http://www.let.rug.nl/kleiweg/lev/) и на осонове этой идеи сделала свою фунцию: "
   ]
  },
  {
   "cell_type": "markdown",
   "metadata": {},
   "source": [
    "##### Новая версия"
   ]
  },
  {
   "cell_type": "code",
   "execution_count": 9,
   "metadata": {},
   "outputs": [],
   "source": [
    "def lev_distance(a, b, dist_matrix):\n",
    "    \n",
    "    # Первыми - строчки \n",
    "    # столбики - слово b\n",
    "    \n",
    "    dis = np.zeros((len(a) + 1, len(b) + 1))\n",
    "    i = 0\n",
    "    row = 0\n",
    "    col = 0\n",
    "\n",
    "    while i < dis.size:\n",
    "\n",
    "        if row == 0:\n",
    "            if col != 0:\n",
    "                dis[row, col] = dis[row, col-1] + 1\n",
    "\n",
    "        elif col == 0:\n",
    "            if row != 0:\n",
    "                dis[row, col] = dis[row - 1, col] + 1\n",
    "        \n",
    "  \n",
    "        elif row > 1 and col > 1 and a[row-1] == b[col-2] and a[row-2] == b[col-1]:\n",
    "            dis[row, col] = dis[row - 3][col - 3] + 1\n",
    "            \n",
    "        \n",
    "        else:\n",
    "            dis[row, col] = np.min([dis[row, col - 1] + 1,  # левый \n",
    "                                    dis[row - 1, col - 1] + dist_matrix[a[row-1]][b[col-1]], # диаг               \n",
    "                                    dis[row - 1, col] + 1]) # верхний\n",
    "        \n",
    "        col += 1\n",
    "        i += 1  \n",
    "        if col == len(b) + 1:\n",
    "            col = 0\n",
    "            row += 1\n",
    "\n",
    "    return dis[len(a), len(b)]"
   ]
  },
  {
   "cell_type": "code",
   "execution_count": 11,
   "metadata": {},
   "outputs": [
    {
     "name": "stdout",
     "output_type": "stream",
     "text": [
      "[[0. 1. 2. 3.]\n",
      " [1. 0. 1. 2.]\n",
      " [2. 1. 0. 1.]\n",
      " [3. 2. 1. 0.]\n",
      " [4. 3. 2. 1.]]\n"
     ]
    },
    {
     "data": {
      "text/plain": [
       "1.0"
      ]
     },
     "execution_count": 11,
     "metadata": {},
     "output_type": "execute_result"
    }
   ],
   "source": [
    "lev_distance('мила', 'мил', dist_matrix)"
   ]
  },
  {
   "cell_type": "code",
   "execution_count": 12,
   "metadata": {},
   "outputs": [
    {
     "name": "stdout",
     "output_type": "stream",
     "text": [
      "[[0.         1.         2.         3.         4.         5.        ]\n",
      " [1.         0.27272727 1.         2.         3.         4.        ]\n",
      " [2.         1.27272727 1.20606061 1.375      2.375      3.375     ]\n",
      " [3.         2.27272727 1.72727273 2.06320346 1.375      2.375     ]\n",
      " [4.         3.18181818 2.36363636 2.72727273 2.375      1.375     ]]\n"
     ]
    },
    {
     "data": {
      "text/plain": [
       "1.375"
      ]
     },
     "execution_count": 12,
     "metadata": {},
     "output_type": "execute_result"
    }
   ],
   "source": [
    "lev_distance('порт', 'спирт', dist_matrix)"
   ]
  },
  {
   "cell_type": "code",
   "execution_count": 154,
   "metadata": {},
   "outputs": [
    {
     "name": "stdout",
     "output_type": "stream",
     "text": [
      "[[0.         1.         2.         3.         4.         5.        ]\n",
      " [1.         0.27272727 1.         2.         3.         4.        ]\n",
      " [2.         1.27272727 1.20606061 1.         2.         3.        ]\n",
      " [3.         2.27272727 1.72727273 1.99177489 1.         2.        ]\n",
      " [4.         3.18181818 2.36363636 2.66060606 2.         1.        ]]\n"
     ]
    },
    {
     "data": {
      "text/plain": [
       "1.0"
      ]
     },
     "execution_count": 154,
     "metadata": {},
     "output_type": "execute_result"
    }
   ],
   "source": [
    "lev_distance('порт', 'спорт', dist_matrix)"
   ]
  },
  {
   "cell_type": "code",
   "execution_count": 155,
   "metadata": {},
   "outputs": [
    {
     "name": "stdout",
     "output_type": "stream",
     "text": [
      "[[0.         1.         2.         3.         4.        ]\n",
      " [1.         0.         1.         2.         3.        ]\n",
      " [2.         1.         0.78571429 1.         2.        ]\n",
      " [3.         2.         1.         1.         1.93333333]\n",
      " [4.         3.         2.         1.36363636 1.        ]]\n"
     ]
    },
    {
     "data": {
      "text/plain": [
       "1.0"
      ]
     },
     "execution_count": 155,
     "metadata": {},
     "output_type": "execute_result"
    }
   ],
   "source": [
    "lev_distance('прот', 'порт', dist_matrix)"
   ]
  },
  {
   "cell_type": "code",
   "execution_count": 156,
   "metadata": {},
   "outputs": [
    {
     "name": "stdout",
     "output_type": "stream",
     "text": [
      "[[0.         1.         2.         3.         4.        ]\n",
      " [1.         0.         1.         2.         3.        ]\n",
      " [2.         1.         0.85714286 1.         2.        ]\n",
      " [3.         2.         1.375      1.64285714 1.93333333]\n",
      " [4.         3.         2.375      1.73863636 1.64285714]]\n"
     ]
    },
    {
     "data": {
      "text/plain": [
       "1.6428571428571428"
      ]
     },
     "execution_count": 156,
     "metadata": {},
     "output_type": "execute_result"
    }
   ],
   "source": [
    "lev_distance('прот', 'пирт', dist_matrix)"
   ]
  },
  {
   "cell_type": "code",
   "execution_count": 157,
   "metadata": {},
   "outputs": [
    {
     "name": "stdout",
     "output_type": "stream",
     "text": [
      "[[0.         1.         2.         3.         4.         5.        ]\n",
      " [1.         0.27272727 1.         2.         3.         4.        ]\n",
      " [2.         1.27272727 0.72727273 1.72727273 2.         3.        ]\n",
      " [3.         2.27272727 1.72727273 0.72727273 2.         2.93333333]\n",
      " [4.         3.18181818 2.36363636 1.72727273 1.09090909 2.        ]]\n"
     ]
    },
    {
     "data": {
      "text/plain": [
       "2.0"
      ]
     },
     "execution_count": 157,
     "metadata": {},
     "output_type": "execute_result"
    }
   ],
   "source": [
    "lev_distance('прот', 'спорт', dist_matrix)"
   ]
  },
  {
   "cell_type": "code",
   "execution_count": 173,
   "metadata": {},
   "outputs": [
    {
     "name": "stdout",
     "output_type": "stream",
     "text": [
      "[[0. 1. 2. 3. 4.]\n",
      " [1. 0. 1. 2. 3.]\n",
      " [2. 1. 0. 1. 2.]\n",
      " [3. 2. 1. 0. 1.]]\n"
     ]
    },
    {
     "data": {
      "text/plain": [
       "1.0"
      ]
     },
     "execution_count": 173,
     "metadata": {},
     "output_type": "execute_result"
    }
   ],
   "source": [
    "lev_distance('мил', 'мила', dist_matrix)"
   ]
  },
  {
   "cell_type": "code",
   "execution_count": 10,
   "metadata": {},
   "outputs": [],
   "source": [
    "import collections\n",
    "from collections import defaultdict"
   ]
  },
  {
   "cell_type": "code",
   "execution_count": 11,
   "metadata": {},
   "outputs": [],
   "source": [
    "def sort_words(words, word, dist_matrix, top=10):\n",
    "    \n",
    "    answer = collections.defaultdict(list)\n",
    "    \n",
    "    for item in words:\n",
    "\n",
    "        distance = lev_distance(word, item, dist_matrix)\n",
    "        answer[item].append(distance)\n",
    "        \n",
    "    return sorted(answer, key=lambda n: answer[n])[:top]"
   ]
  },
  {
   "cell_type": "code",
   "execution_count": 12,
   "metadata": {},
   "outputs": [
    {
     "data": {
      "text/plain": [
       "['торт', 'парт', 'прот', 'спорт', 'кипр', 'спирт']"
      ]
     },
     "execution_count": 12,
     "metadata": {},
     "output_type": "execute_result"
    }
   ],
   "source": [
    "words = ['спорт', 'торт', 'прот', 'парт', 'спирт', 'кипр'] \n",
    "word = 'порт'\n",
    "sort_words(words, word, dist_matrix)"
   ]
  },
  {
   "cell_type": "code",
   "execution_count": 13,
   "metadata": {},
   "outputs": [
    {
     "data": {
      "text/plain": [
       "['мамы', 'маму', 'папа', 'мыла', 'смама', 'мышь', 'мам']"
      ]
     },
     "execution_count": 13,
     "metadata": {},
     "output_type": "execute_result"
    }
   ],
   "source": [
    "words = ['мам', 'мамы',  'маму', 'мыла', 'папа', 'мышь', 'смама'] \n",
    "word = 'мама'\n",
    "sort_words(words, word, dist_matrix)"
   ]
  },
  {
   "cell_type": "markdown",
   "metadata": {},
   "source": [
    "Проблема решена."
   ]
  },
  {
   "cell_type": "markdown",
   "metadata": {},
   "source": [
    "## Фонетические изменения"
   ]
  },
  {
   "cell_type": "markdown",
   "metadata": {},
   "source": [
    "#### ГЛАСНЫЕ"
   ]
  },
  {
   "cell_type": "code",
   "execution_count": 14,
   "metadata": {},
   "outputs": [],
   "source": [
    "vows = pd.read_csv('vowels.csv', sep=';')\n",
    "vows = vows.set_index('Unnamed: 0')\n",
    "vows = vows.reindex(vows.index.rename('name'))"
   ]
  },
  {
   "cell_type": "code",
   "execution_count": 15,
   "metadata": {},
   "outputs": [
    {
     "data": {
      "text/html": [
       "<div>\n",
       "<style>\n",
       "    .dataframe thead tr:only-child th {\n",
       "        text-align: right;\n",
       "    }\n",
       "\n",
       "    .dataframe thead th {\n",
       "        text-align: left;\n",
       "    }\n",
       "\n",
       "    .dataframe tbody tr th {\n",
       "        vertical-align: top;\n",
       "    }\n",
       "</style>\n",
       "<table border=\"1\" class=\"dataframe\">\n",
       "  <thead>\n",
       "    <tr style=\"text-align: right;\">\n",
       "      <th></th>\n",
       "      <th>#</th>\n",
       "      <th>v2_hard</th>\n",
       "      <th>v2_soft</th>\n",
       "      <th>v1_hard</th>\n",
       "      <th>v1_sh</th>\n",
       "      <th>v1_soft</th>\n",
       "      <th>V</th>\n",
       "      <th>vn_hard</th>\n",
       "      <th>vn_soft</th>\n",
       "    </tr>\n",
       "    <tr>\n",
       "      <th>name</th>\n",
       "      <th></th>\n",
       "      <th></th>\n",
       "      <th></th>\n",
       "      <th></th>\n",
       "      <th></th>\n",
       "      <th></th>\n",
       "      <th></th>\n",
       "      <th></th>\n",
       "      <th></th>\n",
       "    </tr>\n",
       "  </thead>\n",
       "  <tbody>\n",
       "    <tr>\n",
       "      <th>а</th>\n",
       "      <td>а</td>\n",
       "      <td>ъ</td>\n",
       "      <td>ь</td>\n",
       "      <td>а</td>\n",
       "      <td>a</td>\n",
       "      <td>и</td>\n",
       "      <td>а</td>\n",
       "      <td>ъ</td>\n",
       "      <td>ь</td>\n",
       "    </tr>\n",
       "    <tr>\n",
       "      <th>я</th>\n",
       "      <td>а</td>\n",
       "      <td>ъ</td>\n",
       "      <td>ь</td>\n",
       "      <td>а</td>\n",
       "      <td>a</td>\n",
       "      <td>и</td>\n",
       "      <td>а</td>\n",
       "      <td>ъ</td>\n",
       "      <td>ь</td>\n",
       "    </tr>\n",
       "    <tr>\n",
       "      <th>о</th>\n",
       "      <td>а</td>\n",
       "      <td>ъ</td>\n",
       "      <td>ь</td>\n",
       "      <td>а</td>\n",
       "      <td>ы</td>\n",
       "      <td>и</td>\n",
       "      <td>о</td>\n",
       "      <td>ъ</td>\n",
       "      <td>ь</td>\n",
       "    </tr>\n",
       "    <tr>\n",
       "      <th>ё</th>\n",
       "      <td>а</td>\n",
       "      <td>ъ</td>\n",
       "      <td>ь</td>\n",
       "      <td>а</td>\n",
       "      <td>ы</td>\n",
       "      <td>и</td>\n",
       "      <td>о</td>\n",
       "      <td>ъ</td>\n",
       "      <td>ь</td>\n",
       "    </tr>\n",
       "    <tr>\n",
       "      <th>у</th>\n",
       "      <td>у</td>\n",
       "      <td>у</td>\n",
       "      <td>у</td>\n",
       "      <td>у</td>\n",
       "      <td>у</td>\n",
       "      <td>у</td>\n",
       "      <td>у</td>\n",
       "      <td>у</td>\n",
       "      <td>у</td>\n",
       "    </tr>\n",
       "    <tr>\n",
       "      <th>ю</th>\n",
       "      <td>у</td>\n",
       "      <td>у</td>\n",
       "      <td>у</td>\n",
       "      <td>у</td>\n",
       "      <td>у</td>\n",
       "      <td>у</td>\n",
       "      <td>у</td>\n",
       "      <td>у</td>\n",
       "      <td>у</td>\n",
       "    </tr>\n",
       "    <tr>\n",
       "      <th>е</th>\n",
       "      <td>и</td>\n",
       "      <td>ъ</td>\n",
       "      <td>ь</td>\n",
       "      <td>ы</td>\n",
       "      <td>ы</td>\n",
       "      <td>и</td>\n",
       "      <td>е</td>\n",
       "      <td>ъ</td>\n",
       "      <td>ь</td>\n",
       "    </tr>\n",
       "    <tr>\n",
       "      <th>э</th>\n",
       "      <td>и</td>\n",
       "      <td>ъ</td>\n",
       "      <td>ь</td>\n",
       "      <td>ы</td>\n",
       "      <td>ы</td>\n",
       "      <td>NaN</td>\n",
       "      <td>э</td>\n",
       "      <td>ъ</td>\n",
       "      <td>ь</td>\n",
       "    </tr>\n",
       "    <tr>\n",
       "      <th>и</th>\n",
       "      <td>и</td>\n",
       "      <td>NaN</td>\n",
       "      <td>ь</td>\n",
       "      <td>NaN</td>\n",
       "      <td>NaN</td>\n",
       "      <td>и</td>\n",
       "      <td>и</td>\n",
       "      <td>NaN</td>\n",
       "      <td>ь</td>\n",
       "    </tr>\n",
       "    <tr>\n",
       "      <th>ы</th>\n",
       "      <td>и</td>\n",
       "      <td>ъ</td>\n",
       "      <td>NaN</td>\n",
       "      <td>ы</td>\n",
       "      <td>ы</td>\n",
       "      <td>NaN</td>\n",
       "      <td>ы</td>\n",
       "      <td>ъ</td>\n",
       "      <td>NaN</td>\n",
       "    </tr>\n",
       "  </tbody>\n",
       "</table>\n",
       "</div>"
      ],
      "text/plain": [
       "      # v2_hard v2_soft v1_hard v1_sh v1_soft  V vn_hard vn_soft\n",
       "name                                                            \n",
       "а     а       ъ       ь       а     a       и  а       ъ       ь\n",
       "я     а       ъ       ь       а     a       и  а       ъ       ь\n",
       "о     а       ъ       ь       а     ы       и  о       ъ       ь\n",
       "ё     а       ъ       ь       а     ы       и  о       ъ       ь\n",
       "у     у       у       у       у     у       у  у       у       у\n",
       "ю     у       у       у       у     у       у  у       у       у\n",
       "е     и       ъ       ь       ы     ы       и  е       ъ       ь\n",
       "э     и       ъ       ь       ы     ы     NaN  э       ъ       ь\n",
       "и     и     NaN       ь     NaN   NaN       и  и     NaN       ь\n",
       "ы     и       ъ     NaN       ы     ы     NaN  ы       ъ     NaN"
      ]
     },
     "execution_count": 15,
     "metadata": {},
     "output_type": "execute_result"
    }
   ],
   "source": [
    "vows"
   ]
  },
  {
   "cell_type": "markdown",
   "metadata": {},
   "source": [
    "#### СОГЛАСНЫЕ"
   ]
  },
  {
   "cell_type": "code",
   "execution_count": 16,
   "metadata": {},
   "outputs": [
    {
     "data": {
      "text/html": [
       "<div>\n",
       "<style>\n",
       "    .dataframe thead tr:only-child th {\n",
       "        text-align: right;\n",
       "    }\n",
       "\n",
       "    .dataframe thead th {\n",
       "        text-align: left;\n",
       "    }\n",
       "\n",
       "    .dataframe tbody tr th {\n",
       "        vertical-align: top;\n",
       "    }\n",
       "</style>\n",
       "<table border=\"1\" class=\"dataframe\">\n",
       "  <thead>\n",
       "    <tr style=\"text-align: right;\">\n",
       "      <th></th>\n",
       "      <th>soft</th>\n",
       "      <th>hard</th>\n",
       "      <th>special</th>\n",
       "      <th>voiced</th>\n",
       "      <th>no_voice</th>\n",
       "    </tr>\n",
       "    <tr>\n",
       "      <th>name</th>\n",
       "      <th></th>\n",
       "      <th></th>\n",
       "      <th></th>\n",
       "      <th></th>\n",
       "      <th></th>\n",
       "    </tr>\n",
       "  </thead>\n",
       "  <tbody>\n",
       "    <tr>\n",
       "      <th>б</th>\n",
       "      <td>б’</td>\n",
       "      <td>б</td>\n",
       "      <td>NaN</td>\n",
       "      <td>б</td>\n",
       "      <td>п</td>\n",
       "    </tr>\n",
       "    <tr>\n",
       "      <th>в</th>\n",
       "      <td>в’</td>\n",
       "      <td>в</td>\n",
       "      <td>NaN</td>\n",
       "      <td>в</td>\n",
       "      <td>ф</td>\n",
       "    </tr>\n",
       "    <tr>\n",
       "      <th>г</th>\n",
       "      <td>г’</td>\n",
       "      <td>г</td>\n",
       "      <td>NaN</td>\n",
       "      <td>г</td>\n",
       "      <td>к</td>\n",
       "    </tr>\n",
       "    <tr>\n",
       "      <th>д</th>\n",
       "      <td>д’</td>\n",
       "      <td>д</td>\n",
       "      <td>NaN</td>\n",
       "      <td>д</td>\n",
       "      <td>т</td>\n",
       "    </tr>\n",
       "    <tr>\n",
       "      <th>ж</th>\n",
       "      <td>NaN</td>\n",
       "      <td>ж</td>\n",
       "      <td>ж</td>\n",
       "      <td>ж</td>\n",
       "      <td>ш</td>\n",
       "    </tr>\n",
       "    <tr>\n",
       "      <th>з</th>\n",
       "      <td>з’</td>\n",
       "      <td>з</td>\n",
       "      <td>NaN</td>\n",
       "      <td>з</td>\n",
       "      <td>с</td>\n",
       "    </tr>\n",
       "    <tr>\n",
       "      <th>й</th>\n",
       "      <td>j</td>\n",
       "      <td>NaN</td>\n",
       "      <td>ṷ</td>\n",
       "      <td>j</td>\n",
       "      <td>j</td>\n",
       "    </tr>\n",
       "    <tr>\n",
       "      <th>к</th>\n",
       "      <td>к’</td>\n",
       "      <td>к</td>\n",
       "      <td>NaN</td>\n",
       "      <td>г</td>\n",
       "      <td>к</td>\n",
       "    </tr>\n",
       "    <tr>\n",
       "      <th>л</th>\n",
       "      <td>л’</td>\n",
       "      <td>л</td>\n",
       "      <td>NaN</td>\n",
       "      <td>л</td>\n",
       "      <td>л</td>\n",
       "    </tr>\n",
       "    <tr>\n",
       "      <th>м</th>\n",
       "      <td>м’</td>\n",
       "      <td>м</td>\n",
       "      <td>NaN</td>\n",
       "      <td>м</td>\n",
       "      <td>м</td>\n",
       "    </tr>\n",
       "    <tr>\n",
       "      <th>н</th>\n",
       "      <td>н’</td>\n",
       "      <td>н</td>\n",
       "      <td>NaN</td>\n",
       "      <td>н</td>\n",
       "      <td>н</td>\n",
       "    </tr>\n",
       "    <tr>\n",
       "      <th>п</th>\n",
       "      <td>п’</td>\n",
       "      <td>п</td>\n",
       "      <td>NaN</td>\n",
       "      <td>б</td>\n",
       "      <td>п</td>\n",
       "    </tr>\n",
       "    <tr>\n",
       "      <th>р</th>\n",
       "      <td>р’</td>\n",
       "      <td>р</td>\n",
       "      <td>NaN</td>\n",
       "      <td>р</td>\n",
       "      <td>р</td>\n",
       "    </tr>\n",
       "    <tr>\n",
       "      <th>с</th>\n",
       "      <td>с’</td>\n",
       "      <td>с</td>\n",
       "      <td>NaN</td>\n",
       "      <td>з</td>\n",
       "      <td>с</td>\n",
       "    </tr>\n",
       "    <tr>\n",
       "      <th>т</th>\n",
       "      <td>т’</td>\n",
       "      <td>т</td>\n",
       "      <td>NaN</td>\n",
       "      <td>д</td>\n",
       "      <td>т</td>\n",
       "    </tr>\n",
       "    <tr>\n",
       "      <th>ф</th>\n",
       "      <td>ф’</td>\n",
       "      <td>ф</td>\n",
       "      <td>NaN</td>\n",
       "      <td>в</td>\n",
       "      <td>ф</td>\n",
       "    </tr>\n",
       "    <tr>\n",
       "      <th>х</th>\n",
       "      <td>х’</td>\n",
       "      <td>х</td>\n",
       "      <td>NaN</td>\n",
       "      <td>х</td>\n",
       "      <td>х</td>\n",
       "    </tr>\n",
       "    <tr>\n",
       "      <th>ц</th>\n",
       "      <td>ц’</td>\n",
       "      <td>ц</td>\n",
       "      <td>NaN</td>\n",
       "      <td>ц</td>\n",
       "      <td>ц</td>\n",
       "    </tr>\n",
       "    <tr>\n",
       "      <th>ч</th>\n",
       "      <td>ч’</td>\n",
       "      <td>NaN</td>\n",
       "      <td>ч’</td>\n",
       "      <td>ч’</td>\n",
       "      <td>ч’</td>\n",
       "    </tr>\n",
       "    <tr>\n",
       "      <th>ш</th>\n",
       "      <td>NaN</td>\n",
       "      <td>ш</td>\n",
       "      <td>ш</td>\n",
       "      <td>ж</td>\n",
       "      <td>ш</td>\n",
       "    </tr>\n",
       "    <tr>\n",
       "      <th>щ</th>\n",
       "      <td>ш’</td>\n",
       "      <td>NaN</td>\n",
       "      <td>ш’</td>\n",
       "      <td>ш’</td>\n",
       "      <td>ш’</td>\n",
       "    </tr>\n",
       "    <tr>\n",
       "      <th>нг</th>\n",
       "      <td>NaN</td>\n",
       "      <td>ŋ</td>\n",
       "      <td>ŋ</td>\n",
       "      <td>ŋ</td>\n",
       "      <td>ŋ</td>\n",
       "    </tr>\n",
       "    <tr>\n",
       "      <th>нк</th>\n",
       "      <td>NaN</td>\n",
       "      <td>ŋ</td>\n",
       "      <td>ŋ</td>\n",
       "      <td>ŋ</td>\n",
       "      <td>ŋ</td>\n",
       "    </tr>\n",
       "  </tbody>\n",
       "</table>\n",
       "</div>"
      ],
      "text/plain": [
       "     soft hard special voiced no_voice\n",
       "name                                  \n",
       "б      б’    б     NaN      б        п\n",
       "в      в’    в     NaN      в        ф\n",
       "г      г’    г     NaN      г        к\n",
       "д      д’    д     NaN      д        т\n",
       "ж     NaN    ж       ж      ж        ш\n",
       "з      з’    з     NaN      з        с\n",
       "й       j  NaN       ṷ      j        j\n",
       "к      к’    к     NaN      г        к\n",
       "л      л’    л     NaN      л        л\n",
       "м      м’    м     NaN      м        м\n",
       "н      н’    н     NaN      н        н\n",
       "п      п’    п     NaN      б        п\n",
       "р      р’    р     NaN      р        р\n",
       "с      с’    с     NaN      з        с\n",
       "т      т’    т     NaN      д        т\n",
       "ф      ф’    ф     NaN      в        ф\n",
       "х      х’    х     NaN      х        х\n",
       "ц      ц’    ц     NaN      ц        ц\n",
       "ч      ч’  NaN      ч’     ч’       ч’\n",
       "ш     NaN    ш       ш      ж        ш\n",
       "щ      ш’  NaN      ш’     ш’       ш’\n",
       "нг    NaN    ŋ       ŋ      ŋ        ŋ\n",
       "нк    NaN    ŋ       ŋ      ŋ        ŋ"
      ]
     },
     "execution_count": 16,
     "metadata": {},
     "output_type": "execute_result"
    }
   ],
   "source": [
    "cons = pd.read_csv('cons.csv', sep=';')\n",
    "cons = cons.set_index('Unnamed: 0')\n",
    "cons = cons.reindex(cons.index.rename('name'))\n",
    "cons"
   ]
  },
  {
   "cell_type": "markdown",
   "metadata": {},
   "source": [
    "Табилца, которая помогает учесть ассимиляцию"
   ]
  },
  {
   "cell_type": "code",
   "execution_count": 104,
   "metadata": {},
   "outputs": [
    {
     "data": {
      "text/html": [
       "<div>\n",
       "<style>\n",
       "    .dataframe thead tr:only-child th {\n",
       "        text-align: right;\n",
       "    }\n",
       "\n",
       "    .dataframe thead th {\n",
       "        text-align: left;\n",
       "    }\n",
       "\n",
       "    .dataframe tbody tr th {\n",
       "        vertical-align: top;\n",
       "    }\n",
       "</style>\n",
       "<table border=\"1\" class=\"dataframe\">\n",
       "  <thead>\n",
       "    <tr style=\"text-align: right;\">\n",
       "      <th></th>\n",
       "      <th>с</th>\n",
       "      <th>ш</th>\n",
       "      <th>щ</th>\n",
       "      <th>ч</th>\n",
       "      <th>ж</th>\n",
       "    </tr>\n",
       "    <tr>\n",
       "      <th>name</th>\n",
       "      <th></th>\n",
       "      <th></th>\n",
       "      <th></th>\n",
       "      <th></th>\n",
       "      <th></th>\n",
       "    </tr>\n",
       "  </thead>\n",
       "  <tbody>\n",
       "    <tr>\n",
       "      <th>с</th>\n",
       "      <td>-</td>\n",
       "      <td>ш</td>\n",
       "      <td>ш’</td>\n",
       "      <td>ш’</td>\n",
       "      <td>ж</td>\n",
       "    </tr>\n",
       "    <tr>\n",
       "      <th>сс</th>\n",
       "      <td>-</td>\n",
       "      <td>-</td>\n",
       "      <td>-</td>\n",
       "      <td>ш’</td>\n",
       "      <td>-</td>\n",
       "    </tr>\n",
       "    <tr>\n",
       "      <th>ст</th>\n",
       "      <td>-</td>\n",
       "      <td>-</td>\n",
       "      <td>-</td>\n",
       "      <td>ш’</td>\n",
       "      <td>-</td>\n",
       "    </tr>\n",
       "    <tr>\n",
       "      <th>з</th>\n",
       "      <td>-</td>\n",
       "      <td>ш</td>\n",
       "      <td>ш’</td>\n",
       "      <td>ш’</td>\n",
       "      <td>-</td>\n",
       "    </tr>\n",
       "    <tr>\n",
       "      <th>зд</th>\n",
       "      <td>-</td>\n",
       "      <td>-</td>\n",
       "      <td>ш’</td>\n",
       "      <td>ш’</td>\n",
       "      <td>-</td>\n",
       "    </tr>\n",
       "    <tr>\n",
       "      <th>т</th>\n",
       "      <td>ц</td>\n",
       "      <td>ч</td>\n",
       "      <td>-</td>\n",
       "      <td>-</td>\n",
       "      <td>-</td>\n",
       "    </tr>\n",
       "    <tr>\n",
       "      <th>ть</th>\n",
       "      <td>ц</td>\n",
       "      <td>-</td>\n",
       "      <td>-</td>\n",
       "      <td>-</td>\n",
       "      <td>-</td>\n",
       "    </tr>\n",
       "    <tr>\n",
       "      <th>д</th>\n",
       "      <td>ц</td>\n",
       "      <td>ч</td>\n",
       "      <td>-</td>\n",
       "      <td>-</td>\n",
       "      <td>-</td>\n",
       "    </tr>\n",
       "    <tr>\n",
       "      <th>ж</th>\n",
       "      <td>-</td>\n",
       "      <td>-</td>\n",
       "      <td>-</td>\n",
       "      <td>ш’</td>\n",
       "      <td>ж</td>\n",
       "    </tr>\n",
       "    <tr>\n",
       "      <th>ш</th>\n",
       "      <td>-</td>\n",
       "      <td>-</td>\n",
       "      <td>-</td>\n",
       "      <td>ш’</td>\n",
       "      <td>-</td>\n",
       "    </tr>\n",
       "  </tbody>\n",
       "</table>\n",
       "</div>"
      ],
      "text/plain": [
       "      с  ш   щ   ч  ж\n",
       "name                 \n",
       "с     -  ш  ш’  ш’  ж\n",
       "сс    -  -   -  ш’  -\n",
       "ст    -  -   -  ш’  -\n",
       "з     -  ш  ш’  ш’  -\n",
       "зд    -  -  ш’  ш’  -\n",
       "т     ц  ч   -   -  -\n",
       "ть    ц  -   -   -  -\n",
       "д     ц  ч   -   -  -\n",
       "ж     -  -   -  ш’  ж\n",
       "ш     -  -   -  ш’  -"
      ]
     },
     "execution_count": 104,
     "metadata": {},
     "output_type": "execute_result"
    }
   ],
   "source": [
    "aff = pd.read_csv('aff.csv', sep=';')\n",
    "aff = aff.set_index('Unnamed: 0')\n",
    "aff = aff.reindex(aff.index.rename('name'))\n",
    "aff"
   ]
  },
  {
   "cell_type": "markdown",
   "metadata": {},
   "source": [
    "### ТАБЛИЦА УДАРЕНИЙ"
   ]
  },
  {
   "cell_type": "code",
   "execution_count": 18,
   "metadata": {},
   "outputs": [],
   "source": [
    "st_words = pd.read_csv('ru_reversed.csv', sep='\\t')"
   ]
  },
  {
   "cell_type": "code",
   "execution_count": 19,
   "metadata": {},
   "outputs": [],
   "source": [
    "new = st_words['word'].str.replace('(а́|А́)', 'а')\n",
    "new = new.str.replace('(у́|У́)', 'у')\n",
    "new = new.str.replace('(и́|И́)', 'и')\n",
    "new = new.str.replace('(о́|О́)', 'о')\n",
    "new = new.str.replace('(е́|Е́)', 'е')\n",
    "new = new.str.replace('(э́|Э́)', 'э')\n",
    "new = new.str.replace('(ы́|Ы́)', 'ы')\n",
    "new = new.str.replace('(ю́|Ю́)', 'ю')\n",
    "new = new.str.replace('(я́|Я́)', 'я')"
   ]
  },
  {
   "cell_type": "code",
   "execution_count": 20,
   "metadata": {},
   "outputs": [],
   "source": [
    "new = new.str.lower()"
   ]
  },
  {
   "cell_type": "code",
   "execution_count": 21,
   "metadata": {},
   "outputs": [],
   "source": [
    "st_words['norm_form'] =  new "
   ]
  },
  {
   "cell_type": "code",
   "execution_count": 22,
   "metadata": {},
   "outputs": [],
   "source": [
    "st_words = st_words.set_index('norm_form')"
   ]
  },
  {
   "cell_type": "code",
   "execution_count": 23,
   "metadata": {},
   "outputs": [
    {
     "data": {
      "text/html": [
       "<div>\n",
       "<style>\n",
       "    .dataframe thead tr:only-child th {\n",
       "        text-align: right;\n",
       "    }\n",
       "\n",
       "    .dataframe thead th {\n",
       "        text-align: left;\n",
       "    }\n",
       "\n",
       "    .dataframe tbody tr th {\n",
       "        vertical-align: top;\n",
       "    }\n",
       "</style>\n",
       "<table border=\"1\" class=\"dataframe\">\n",
       "  <thead>\n",
       "    <tr style=\"text-align: right;\">\n",
       "      <th></th>\n",
       "      <th>word</th>\n",
       "      <th>stressed_s</th>\n",
       "    </tr>\n",
       "    <tr>\n",
       "      <th>norm_form</th>\n",
       "      <th></th>\n",
       "      <th></th>\n",
       "    </tr>\n",
       "  </thead>\n",
       "  <tbody>\n",
       "    <tr>\n",
       "      <th>а</th>\n",
       "      <td>а́</td>\n",
       "      <td>1</td>\n",
       "    </tr>\n",
       "    <tr>\n",
       "      <th>а</th>\n",
       "      <td>а́</td>\n",
       "      <td>1</td>\n",
       "    </tr>\n",
       "    <tr>\n",
       "      <th>а</th>\n",
       "      <td>а́</td>\n",
       "      <td>1</td>\n",
       "    </tr>\n",
       "    <tr>\n",
       "      <th>а.</th>\n",
       "      <td>а́.</td>\n",
       "      <td>1</td>\n",
       "    </tr>\n",
       "    <tr>\n",
       "      <th>аа</th>\n",
       "      <td>а́а</td>\n",
       "      <td>2</td>\n",
       "    </tr>\n",
       "  </tbody>\n",
       "</table>\n",
       "</div>"
      ],
      "text/plain": [
       "          word  stressed_s\n",
       "norm_form                 \n",
       "а           а́           1\n",
       "а           а́           1\n",
       "а           а́           1\n",
       "а.         а́.           1\n",
       "аа         а́а           2"
      ]
     },
     "execution_count": 23,
     "metadata": {},
     "output_type": "execute_result"
    }
   ],
   "source": [
    "st_words.head()"
   ]
  },
  {
   "cell_type": "markdown",
   "metadata": {},
   "source": [
    "## ТРАНСКРИПЦИЯ"
   ]
  },
  {
   "cell_type": "markdown",
   "metadata": {},
   "source": [
    "Функция, которая ищет заданное слово в словаре с ударениями. Возращает номер гласной, на которой стоит ударение. Чтобы не использовать дополнительную память, сделала из него генератор. Если слова в словаре нет, то слову пока(!) приписывается ударение на первый гласный, чтобы обезопасить от ошибок (например, если в слове всего одна гласная, а я бы вернула вторую)"
   ]
  },
  {
   "cell_type": "code",
   "execution_count": 24,
   "metadata": {},
   "outputs": [],
   "source": [
    "def stressed(word, st_words):\n",
    "    \n",
    "    try:\n",
    "        a = st_words.loc[word]['stressed_s'].tolist()\n",
    "   \n",
    "        if isinstance(a, list):\n",
    "            yield from a\n",
    "        else:\n",
    "            yield from [a]\n",
    "    \n",
    "    except KeyError:\n",
    "        yield from [1]"
   ]
  },
  {
   "cell_type": "markdown",
   "metadata": {},
   "source": [
    "Главная идея такая: идти с конца слова и преобразовывать каждую букву в звук.\n",
    "\n",
    "Эта функция преобразует гласные буквы в соотвествии с таблицей. У меня есть таблица с соответсвиями гласных и позиции в слове. Функция возвращает нужный вариант и, если требуется, делает дополнительные преобразования: указание мягкости для следующего согласного, добавление j, если это ударный слог, и тд."
   ]
  },
  {
   "cell_type": "code",
   "execution_count": null,
   "metadata": {},
   "outputs": [],
   "source": [
    "def ans_stressed(letter, next_letter, index, length ):\n",
    "    \n",
    "    if letter in ('э', 'е') and index + 1 <= length-1 and letters[index+1] in ('ш', 'ж', 'ц'):\n",
    "                letter = 'э'\n",
    "    \n",
    "        ans = j(letter, index, length, vows, letters)\n",
    "        \n",
    "    if letter in ('е', 'ё', 'и', 'ю', 'я'):\n",
    "        \n",
    "        if index + 1 <= length-1 and letters[index+1] not in vows.index:\n",
    "            soft = True\n",
    "    return "
   ]
  },
  {
   "cell_type": "markdown",
   "metadata": {},
   "source": [
    "Изменения гласных"
   ]
  },
  {
   "cell_type": "code",
   "execution_count": 25,
   "metadata": {},
   "outputs": [],
   "source": [
    "def due_to_vow_table(vow_n, i, letter, index, length, vows, letters, soft):\n",
    "    \n",
    "    #ans = letter\n",
    "\n",
    "    if vow_n == i:\n",
    "        \n",
    "        if letter in ('э', 'е') and index + 1 <= length-1 and letters[index+1] in ('ш', 'ж', 'ц'):\n",
    "                letter = 'э'\n",
    "    \n",
    "        ans = j(letter, index, length, vows, letters)\n",
    "        \n",
    "        if letter in ('е', 'ё', 'и', 'ю', 'я'):\n",
    "            if index + 1 <= length-1 and letters[index+1] not in vows.index:\n",
    "                soft = True\n",
    "    \n",
    "                    \n",
    "    elif vow_n == i + 1: # первый предударный\n",
    "        \n",
    "        if index + 1 <= length-1 and letters[index+1] in ('ц', 'ж', 'ш'):\n",
    "            ans = vows.loc[letter]['v1_sh']\n",
    "        \n",
    "        elif index + 1 <= length-1 and letters[index+1] in vows.index:\n",
    "            if letter in ('е', 'ё', 'и', 'ю', 'я'):\n",
    "                ans = vows.loc[letter]['v1_soft']\n",
    "                \n",
    "            else:\n",
    "                ans = vows.loc[letter]['v1_hard']\n",
    "            \n",
    "        elif letter in ('е', 'ё', 'и', 'ю', 'я'):\n",
    "            ans = vows.loc[letter]['v1_soft']\n",
    "            \n",
    "            if index + 1 <= length-1 and letters[index+1] not in vows.index:\n",
    "                soft = True\n",
    "        else:\n",
    "            ans = vows.loc[letter]['v1_hard']\n",
    "\n",
    "                    \n",
    "    elif vow_n >= i + 2: # второй предударный\n",
    "        \n",
    "        if letter in ('е', 'ё', 'и', 'ю', 'я'):\n",
    "            ans = vows.loc[letter]['v2_soft']\n",
    "            \n",
    "            if index + 1 <= length-1 and letters[index+1] not in vows.index:\n",
    "                soft = True\n",
    "                \n",
    "        elif index + 1 <= length-1 and letters[index+1] in vows.index:\n",
    "            if letter in ('е', 'ё', 'и', 'ю', 'я'):\n",
    "                ans = vows.loc[letter]['v1_soft']\n",
    "                \n",
    "            else:\n",
    "                ans = vows.loc[letter]['v1_hard']\n",
    "\n",
    "        else:\n",
    "            ans = vows.loc[letter]['v2_hard']\n",
    "        \n",
    "                    \n",
    "    elif vow_n < i: # заударные \n",
    "        \n",
    "        if letter in ('е', 'ё', 'и', 'ю', 'я'):\n",
    "            ans = vows.loc[letter]['vn_soft']\n",
    "            \n",
    "            if index + 1 <= length-1 and letters[index+1] not in vows.index:\n",
    "                soft = True\n",
    "        else:\n",
    "            ans = vows.loc[letter]['vn_hard']\n",
    "    \n",
    "                \n",
    "    elif index == length - 1:  # начало\n",
    "        ans = vows.loc[letter]['#']\n",
    "        \n",
    "    return ans, soft"
   ]
  },
  {
   "cell_type": "markdown",
   "metadata": {},
   "source": [
    "Функция, которая вставляет j"
   ]
  },
  {
   "cell_type": "code",
   "execution_count": 26,
   "metadata": {},
   "outputs": [],
   "source": [
    "def j(letter, index, length, vows, letters):\n",
    "    \n",
    "    ans = vows.loc[letter]['V']\n",
    "    \n",
    "    if letter in ('ю', 'е', 'ё', 'я'):\n",
    "        \n",
    "        if index == length - 1:\n",
    "            ans = 'j' + ans\n",
    "    \n",
    "        elif index + 1 <= length-1 and letters[index+1] in vows.index:\n",
    "            ans = 'j' + ans\n",
    "        \n",
    "        elif index + 1 <= length-1 and letters[index+1] in ('ь', 'ъ'):\n",
    "            ans = 'j' + ans\n",
    "    \n",
    "    elif letter in ('и', 'о') and index + 1 <= length-1 and letters[index+1] == 'ь':\n",
    "        ans = 'j' + ans\n",
    "    \n",
    "    return ans"
   ]
  },
  {
   "cell_type": "markdown",
   "metadata": {},
   "source": [
    "Изменения согласных"
   ]
  },
  {
   "cell_type": "code",
   "execution_count": 114,
   "metadata": {},
   "outputs": [],
   "source": [
    "def cons_tranformer(letter, no_voice, soft, voice, index, data, cons, length, letters, gap, answer, vow_n, i):\n",
    "\n",
    "    if gap:\n",
    "        return '', no_voice, soft, voice, gap\n",
    "    \n",
    "    if letter in ('ч', 'ш', 'щ', 'ж'):\n",
    "        ans = cons.loc[letter]['special']\n",
    "    else:\n",
    "        ans = letter \n",
    "\n",
    "    no_voice = no_voice\n",
    "    soft = soft\n",
    "    voice = voice\n",
    "\n",
    "    if index == 0 or no_voice == True:\n",
    "        ans = cons.loc[letter]['no_voice']\n",
    "        no_voice == False\n",
    "    \n",
    "    if voice == True:\n",
    "        ans = cons.loc[letter]['voiced']\n",
    "        voice == False\n",
    "    \n",
    "    if soft == True and ans not in ('ч’', 'ш’'):\n",
    "        ans = cons.loc[ans]['soft']\n",
    "        soft = False\n",
    "        \n",
    "    if index + 1 <= length-1 and letters[index+1] in cons.index:\n",
    "\n",
    "        if letter in aff.columns:\n",
    "        \n",
    "            if index + 2 <= length-1 and letters[index+2] in cons.index:\n",
    "\n",
    "                if letters[index+2] + letters[index+1] in aff.index:\n",
    "                    ans2 = aff.loc[letters[index+2] + letters[index+1]][letter]\n",
    "                    if ans2 != '-':\n",
    "                        gap = True\n",
    "                        \n",
    "                        \n",
    "                        # прописать изменение гласных\n",
    "                        \n",
    "                        # if len(answer) != 0 and index - 1 >= 0 and letters[index-1] in vows.index:\n",
    "                            \n",
    "                            # if vow_n == i:\n",
    "                            #    answer[-1] = \n",
    "                        \n",
    "                        return ans2, no_voice, soft, voice, gap\n",
    "        \n",
    "            elif letters[index+1] in aff.index:\n",
    "                ans2 = aff.loc[letters[index+1]][letter]\n",
    "                if ans2 != '-':\n",
    "                    gap = True\n",
    "                    \n",
    "                    # прописать изменение гласных\n",
    "                            \n",
    "                    return ans2, no_voice, soft, voice, gap\n",
    "                \n",
    "        \n",
    "        if data[ans]['son'] == '-' and ans not in ('в', \"в’\") and data[ans]['vcd'] == '+':\n",
    "            voice = True\n",
    "  \n",
    "        elif letters[index+1] not in ('в', \"в’\") and data[ans]['vcd'] == '-':\n",
    "            \n",
    "            next_ = letters[index+1]\n",
    "            if next_ in ('й', 'ч', 'ш', 'щ', 'ж'):\n",
    "                next_ = cons.loc[next_]['special']\n",
    "     \n",
    "            if data[next_]['son'] == '-':\n",
    "                no_voice = True\n",
    "            \n",
    "\n",
    "    if index-1 >= 0:\n",
    "        \n",
    "        if letters[index-1] == 'к' and letter == 'г':\n",
    "            ans = 'х'\n",
    "        \n",
    "        elif answer[index-1] == 'т' and ans == \"ч’\":\n",
    "            ans = 'ш'\n",
    "        \n",
    "        elif answer[index-1] == ans:\n",
    "            ans = ''\n",
    "        \n",
    "\n",
    "    return ans, no_voice, soft, voice, gap"
   ]
  },
  {
   "cell_type": "code",
   "execution_count": 115,
   "metadata": {},
   "outputs": [],
   "source": [
    "import copy\n",
    "\n",
    "def correct_cons(data, letter, new):\n",
    "    \n",
    "    if (data[letter] == new).all():\n",
    "        return letter\n",
    "\n",
    "    for i in data.columns:\n",
    "        if (new == data[i]).all():\n",
    "            return i\n",
    "    return ''"
   ]
  },
  {
   "cell_type": "markdown",
   "metadata": {},
   "source": [
    "Так как в словаре с ударениями могут быть повторения (например, слова одинаково пишутся, но ударение на разных слогах, или просто в словаре есть повторения), то я рассматриваю все варианты. "
   ]
  },
  {
   "cell_type": "code",
   "execution_count": 108,
   "metadata": {},
   "outputs": [],
   "source": [
    "words = ['датский', 'обходится', 'здщ', 'смотреться', 'прочти', 'рагк', 'бадтут', 'матд', 'массаж', 'рассвет', \n",
    "         'код', 'свой', 'съесть', 'синяя', 'зоозащитник', 'садовод', 'типовой', 'лесок', \n",
    "         'лес', 'мёл', 'поэт', 'поет', 'поёт', 'елка',\n",
    "         'еду', 'наелся', 'жест', 'цех', 'шест', 'те', 'эта', 'пил', 'пел', 'бульон', 'май', 'цены', 'цена']\n"
   ]
  },
  {
   "cell_type": "code",
   "execution_count": 116,
   "metadata": {},
   "outputs": [
    {
     "name": "stdout",
     "output_type": "stream",
     "text": [
      "датский: [дацк’ьṷ]\n",
      "обходится: [апход’ьць]\n",
      "обходится: [апход’ьць]\n",
      "здщ: [ш’]\n",
      "смотреться: [сматр’ець]\n",
      "смотреться: [сматр’ець]\n",
      "прочти: [прач’т’и]\n",
      "рагк: [рахк]\n",
      "бадтут: [батут]\n",
      "матд: [мат]\n",
      "массаж: [масаш]\n",
      "рассвет: [расв’ет]\n",
      "код: [кот]\n",
      "код: [кот]\n",
      "свой: [своṷ]\n",
      "съесть: [сjест’]\n",
      "синяя: [с’ин’ьь]\n",
      "зоозащитник: [зъаз’ъш’итн’ик]\n",
      "садовод: [съдавот]\n",
      "типовой: [т’ьпавоṷ]\n",
      "лесок: [л’есък]\n",
      "лесок: [л’исок]\n",
      "лес: [л’ес]\n",
      "лес: [л’ес]\n",
      "мёл: [м’ол]\n",
      "поэт: [паэт]\n",
      "поет: [паjет]\n",
      "поёт: [паjот]\n",
      "елка: [илка]\n",
      "еду: [jеду]\n",
      "еду: [иду]\n",
      "наелся: [нъилс’а]\n",
      "жест: [жэст]\n",
      "цех: [цэх]\n",
      "шест: [шэст]\n",
      "те: [т’е]\n",
      "те: [т’е]\n",
      "эта: [этъ]\n",
      "эта: [этъ]\n",
      "пил: [п’ил]\n",
      "пил: [п’ил]\n",
      "пел: [п’ел]\n",
      "бульон: [бул’jон]\n",
      "май: [маṷ]\n",
      "май: [маṷ]\n",
      "май: [маṷ]\n",
      "цены: [цэнъ]\n",
      "цены: [цыны]\n",
      "цена: [цына]\n"
     ]
    }
   ],
   "source": [
    "for word in words:\n",
    "    \n",
    "    length = len(word)\n",
    "    letters = list(word)[::-1]\n",
    "\n",
    "    for i in stressed(word, st_words):\n",
    "        \n",
    "        answer = []\n",
    "        vow_n = 0\n",
    "        soft = False\n",
    "        voice = False\n",
    "        no_voice = False\n",
    "        gap = False\n",
    "        \n",
    "        for index, letter in enumerate(letters):\n",
    "            \n",
    "            if letter in vows.index:\n",
    "                \n",
    "                voice = False\n",
    "                no_voice = False\n",
    "                gap = False\n",
    "         \n",
    "                vow_n += 1\n",
    "            \n",
    "                ans, soft = due_to_vow_table(vow_n, i, letter, index, length, vows, letters, soft)\n",
    "            \n",
    "            \n",
    "            elif letter == 'ь' or letter == 'ъ': \n",
    "                ans = ''\n",
    "                \n",
    "                if letter == 'ь':\n",
    "                    \n",
    "                    if index - 1 >= 0 and letters[index-1] in aff.columns:\n",
    "                        \n",
    "                        if index + 1 <= length-1 and letters[index+1] + letter in aff.index: \n",
    "                            \n",
    "                            answer[-1] = ''\n",
    "                            ans = aff.loc[letters[index+1] + letter][letters[index-1]]\n",
    "                            gap = True\n",
    "                    \n",
    "                    else:\n",
    "                        soft = True\n",
    "                \n",
    "                if letter == 'ъ':\n",
    "                    soft = False\n",
    "            \n",
    "            else:\n",
    "                \n",
    "                if letter == 'й':\n",
    "                    ans = cons.loc[letter]['special']\n",
    "                    \n",
    "                else:\n",
    "                    ans, no_voice, soft, voice, gap = cons_tranformer(letter, no_voice, soft, voice, index, data, cons, length, letters, gap, answer, vow_n, i)\n",
    "\n",
    "            answer.append(ans)\n",
    "\n",
    "        print(word + ': [' + ''.join(answer[::-1]) + ']')\n",
    "                    \n",
    "            "
   ]
  },
  {
   "cell_type": "markdown",
   "metadata": {},
   "source": [
    "То, что нужно учесть"
   ]
  },
  {
   "cell_type": "code",
   "execution_count": 88,
   "metadata": {},
   "outputs": [
    {
     "ename": "SyntaxError",
     "evalue": "EOL while scanning string literal (<ipython-input-88-52117a05f754>, line 11)",
     "output_type": "error",
     "traceback": [
      "\u001b[0;36m  File \u001b[0;32m\"<ipython-input-88-52117a05f754>\"\u001b[0;36m, line \u001b[0;32m11\u001b[0m\n\u001b[0;31m    сщ - ш'\u001b[0m\n\u001b[0m           ^\u001b[0m\n\u001b[0;31mSyntaxError\u001b[0m\u001b[0;31m:\u001b[0m EOL while scanning string literal\n"
     ]
    }
   ],
   "source": [
    "Ассимиляция \n",
    "\n",
    "сш- ш\n",
    "зш- ш\n",
    "зж- ж\n",
    "сж- ж\n",
    "жж - ж\n",
    "тс - ц\n",
    "тьс - ц\n",
    "дс - ц\n",
    "сщ - ш'\n",
    "зщ - ш'\n",
    "тш - ч\n",
    "дш - ч\n",
    "здщ - ш'\n",
    "зч - ш'\n",
    "сч - ш'\n",
    "ссч - ш'\n",
    "шч - ш'\n",
    "жч - ш'\n",
    "стч - ш'\n",
    "здч - ш'"
   ]
  },
  {
   "cell_type": "code",
   "execution_count": null,
   "metadata": {},
   "outputs": [],
   "source": [
    "две одинаковые - одна 1  + \n",
    "звонкая, глухая (одинаковый) - глухая 1  +\n",
    "глухая, звонкая (одинаковый) - звонкая 1  +"
   ]
  },
  {
   "cell_type": "code",
   "execution_count": null,
   "metadata": {},
   "outputs": [],
   "source": [
    "гк -> хк + \n",
    "ч'т - [шт]"
   ]
  },
  {
   "cell_type": "code",
   "execution_count": null,
   "metadata": {},
   "outputs": [],
   "source": []
  },
  {
   "cell_type": "markdown",
   "metadata": {},
   "source": [
    "## СТАРЫЕ НАРАБОТКИ"
   ]
  },
  {
   "cell_type": "markdown",
   "metadata": {},
   "source": [
    "Здесь возникает некоторая проблема с перестановками. Так как этот алгорит сравнивает строчки линейно, то есть П и С, П и СП, П и СПО и тд. Моя идея заключалась в том, что замена происходит только тогда, когда буквы (сейчас я рассматриваю имеено буквы) находятся на одной и той же позиции, то есть П и С, ПО и СП и тд, то есть я сравниваю буквы именно тогда.\n",
    "Здесь алгоритм не учитывает той ситуации, что две буквы могут совпадать и быть при этом не на одной и той же позиции, из-за этого получается так, что разница между спортом и портом 0.27, хотя должно быть 1. "
   ]
  },
  {
   "cell_type": "code",
   "execution_count": 513,
   "metadata": {},
   "outputs": [
    {
     "name": "stdout",
     "output_type": "stream",
     "text": [
      "[[0.         1.         2.         3.         4.         5.        ]\n",
      " [1.         0.27272727 0.27272727 1.27272727 2.27272727 3.27272727]\n",
      " [2.         1.27272727 1.20606061 0.27272727 1.27272727 2.27272727]\n",
      " [3.         2.27272727 2.20606061 1.05844156 0.27272727 1.27272727]\n",
      " [4.         3.27272727 3.20606061 2.05844156 0.63636364 0.27272727]]\n"
     ]
    },
    {
     "data": {
      "text/plain": [
       "0.2727272727272727"
      ]
     },
     "execution_count": 513,
     "metadata": {},
     "output_type": "execute_result"
    }
   ],
   "source": [
    "lev_distance1('порт', 'спорт', dist_matrix)"
   ]
  },
  {
   "cell_type": "code",
   "execution_count": 520,
   "metadata": {},
   "outputs": [
    {
     "name": "stdout",
     "output_type": "stream",
     "text": [
      "[[0.         1.         2.         3.         4.         5.        ]\n",
      " [1.         0.27272727 0.27272727 1.27272727 2.27272727 3.27272727]\n",
      " [2.         1.27272727 1.20606061 1.27272727 2.27272727 3.27272727]\n",
      " [3.         2.27272727 2.20606061 2.06320346 1.27272727 2.27272727]\n",
      " [4.         3.27272727 3.20606061 3.06320346 1.63636364 1.27272727]]\n"
     ]
    },
    {
     "data": {
      "text/plain": [
       "1.2727272727272727"
      ]
     },
     "execution_count": 520,
     "metadata": {},
     "output_type": "execute_result"
    }
   ],
   "source": [
    "lev_distance1('порт', 'спирт', dist_matrix)"
   ]
  },
  {
   "cell_type": "markdown",
   "metadata": {},
   "source": [
    "Здесь я постаралась решить эту проблему, добавив условие, которое, в случае, когда буквы одинаковые но стоят на разных позициях в слове, ставит результатом их сравнения разницу в позициях. Если рассматривать случай порта и спорта, это равно 1, то есть, чтобы превраить СП в П, нужно удалить одну букву. "
   ]
  },
  {
   "cell_type": "code",
   "execution_count": 516,
   "metadata": {},
   "outputs": [],
   "source": [
    "def lev_distance2(a, b, dist_matrix):\n",
    "    \n",
    "    # Первыми - строчки \n",
    "    # столбики - слово b\n",
    "    \n",
    "    dis = np.zeros((len(a) + 1, len(b) + 1))\n",
    "    i = 0\n",
    "    row = 0\n",
    "    col = 0\n",
    "\n",
    "    while i < dis.size:\n",
    "\n",
    "        if row == 0:\n",
    "            if col != 0:\n",
    "                dis[row, col] = dis[row, col-1] + 1\n",
    "\n",
    "        elif col == 0:\n",
    "            if row != 0:\n",
    "                dis[row, col] = dis[row-1, col] + 1\n",
    "        \n",
    "        else:\n",
    "   \n",
    "            dis[row, col] = np.min([dis[row, col - 1],  # левый \n",
    "                                    dis[row - 1, col - 1], # диаг               \n",
    "                                    dis[row - 1, col]]) # верхний\n",
    "    \n",
    "            if row == col:\n",
    "                dis[row, col] += dist_matrix[a[row-1]][b[col-1]] # замена\n",
    "                \n",
    "            elif a[row-1] == b[col-1] and row != col:\n",
    "                dis[row, col] = abs(row - col)  # совпадают на разных позициях\n",
    "               \n",
    "            elif a[row-1] != b[col-1]:\n",
    "                dis[row, col] += 1 # все остальное\n",
    "            \n",
    "            #if dis[row, col] == dis[row, col-1]:\n",
    "               # dis[row, col] = 1\n",
    "               # dis[row, col-1] = 1\n",
    "        \n",
    "        col += 1\n",
    "        i += 1  \n",
    "        if col == len(b) + 1:\n",
    "            col = 0\n",
    "            row += 1\n",
    "    print(dis)\n",
    "    return dis[len(a), len(b)]"
   ]
  },
  {
   "cell_type": "code",
   "execution_count": 517,
   "metadata": {},
   "outputs": [
    {
     "name": "stdout",
     "output_type": "stream",
     "text": [
      "[[0.         1.         2.         3.         4.         5.        ]\n",
      " [1.         0.27272727 1.         2.         3.         4.        ]\n",
      " [2.         1.27272727 1.20606061 1.         2.         3.        ]\n",
      " [3.         2.27272727 2.20606061 1.78571429 1.         2.        ]\n",
      " [4.         3.27272727 3.20606061 2.78571429 1.36363636 1.        ]]\n"
     ]
    },
    {
     "data": {
      "text/plain": [
       "1.0"
      ]
     },
     "execution_count": 517,
     "metadata": {},
     "output_type": "execute_result"
    }
   ],
   "source": [
    "lev_distance2('порт', 'спорт', dist_matrix)"
   ]
  },
  {
   "cell_type": "markdown",
   "metadata": {},
   "source": [
    "Однако из-за этого теряется противопоставление и - о, которое хорошо разграничивалось в предыдущей формуле."
   ]
  },
  {
   "cell_type": "code",
   "execution_count": 519,
   "metadata": {},
   "outputs": [
    {
     "name": "stdout",
     "output_type": "stream",
     "text": [
      "[[0.         1.         2.         3.         4.         5.        ]\n",
      " [1.         0.27272727 1.         2.         3.         4.        ]\n",
      " [2.         1.27272727 1.20606061 2.         3.         4.        ]\n",
      " [3.         2.27272727 2.20606061 2.06320346 1.         2.        ]\n",
      " [4.         3.27272727 3.20606061 3.06320346 1.36363636 1.        ]]\n"
     ]
    },
    {
     "data": {
      "text/plain": [
       "1.0"
      ]
     },
     "execution_count": 519,
     "metadata": {},
     "output_type": "execute_result"
    }
   ],
   "source": [
    "lev_distance2('порт', 'спирт', dist_matrix)"
   ]
  },
  {
   "cell_type": "markdown",
   "metadata": {},
   "source": [
    "Тогда я решила попробовать внедрить способ, который использовала в предыдущих версиях - сравнивать линейные комбинации букв слова из словаря со словом, заданным пользователем. То есть я рассмотриваю комбинации спор, порт. Затем выбираю наименьшее расстояние до порта и прибавляю разницу в длине (= кол-во удалений). Расстояние я здесь считаю по lev_distance1"
   ]
  },
  {
   "cell_type": "code",
   "execution_count": 44,
   "metadata": {},
   "outputs": [],
   "source": [
    "def sort_words(words, word, dist_matrix):\n",
    "    \n",
    "    result = {}\n",
    "    \n",
    "    for item in words:\n",
    "        \n",
    "        if len(item) != len(word):\n",
    "            c = 0\n",
    "            if len(item) < len(word):\n",
    "                item, word = word, item\n",
    "                c += 1\n",
    "\n",
    "            diff = len(item) - len(word)\n",
    "            l = len(word)\n",
    "            var = len(item) - len(word)\n",
    "    \n",
    "            for i in range(diff + 1):\n",
    "    \n",
    "                dis = lev_distance(word, item[i:l], dist_matrix)\n",
    "                if dis < var:\n",
    "                    var = dis   \n",
    "                l += 1\n",
    "        \n",
    "            dist = dis + diff\n",
    "             \n",
    "            if c != 0:\n",
    "                item, word = word, item\n",
    "        \n",
    "        else:\n",
    "            dist = lev_distance(word, item, dist_matrix)\n",
    "        \n",
    "        if dist not in result:\n",
    "            result[dist] = [item]\n",
    "        else:\n",
    "            result[dist].append(item)\n",
    "\n",
    "    return result"
   ]
  },
  {
   "cell_type": "code",
   "execution_count": 522,
   "metadata": {},
   "outputs": [
    {
     "name": "stdout",
     "output_type": "stream",
     "text": [
      "[[0.         1.         2.         3.         4.        ]\n",
      " [1.         1.         1.         2.         3.        ]\n",
      " [1.         1.         1.93333333 2.         3.        ]\n",
      " [1.         1.         2.         2.79047619 2.        ]\n",
      " [1.         1.         2.         3.         2.36363636]]\n",
      "[[0.    1.    2.    3.    4.   ]\n",
      " [1.    0.    1.    2.    3.   ]\n",
      " [2.    1.    0.375 1.375 2.375]\n",
      " [3.    2.    1.375 0.375 1.375]\n",
      " [4.    3.    2.375 1.375 0.375]]\n"
     ]
    },
    {
     "data": {
      "text/plain": [
       "{1.375: ['спирт']}"
      ]
     },
     "execution_count": 522,
     "metadata": {},
     "output_type": "execute_result"
    }
   ],
   "source": [
    "words = ['спирт']\n",
    "word = 'порт'\n",
    "sort_words(words, word, dist_matrix)"
   ]
  },
  {
   "cell_type": "code",
   "execution_count": 523,
   "metadata": {},
   "outputs": [
    {
     "name": "stdout",
     "output_type": "stream",
     "text": [
      "[[0.         1.         2.         3.         4.        ]\n",
      " [1.         1.         1.         2.         3.        ]\n",
      " [1.         1.         1.93333333 1.         2.        ]\n",
      " [1.         1.         2.         1.78571429 1.        ]\n",
      " [1.         1.         2.         2.78571429 1.36363636]]\n",
      "[[0. 1. 2. 3. 4.]\n",
      " [1. 0. 1. 2. 3.]\n",
      " [2. 1. 0. 1. 2.]\n",
      " [3. 2. 1. 0. 1.]\n",
      " [4. 3. 2. 1. 0.]]\n"
     ]
    },
    {
     "data": {
      "text/plain": [
       "{1.0: ['спорт']}"
      ]
     },
     "execution_count": 523,
     "metadata": {},
     "output_type": "execute_result"
    }
   ],
   "source": [
    "words = ['спорт']\n",
    "word = 'порт'\n",
    "sort_words(words, word, dist_matrix)"
   ]
  },
  {
   "cell_type": "code",
   "execution_count": 495,
   "metadata": {},
   "outputs": [
    {
     "data": {
      "text/plain": [
       "{0.09090909090909094: ['торт'],\n",
       " 0.25: ['парт'],\n",
       " 1.0: ['спорт'],\n",
       " 1.2840909090909092: ['кипр'],\n",
       " 1.375: ['спирт'],\n",
       " 1.5714285714285714: ['прот']}"
      ]
     },
     "execution_count": 495,
     "metadata": {},
     "output_type": "execute_result"
    }
   ],
   "source": [
    "words = ['спорт', 'торт', 'прот', 'парт', 'спирт', 'кипр'] \n",
    "word = 'порт'\n",
    "sort_words(words, word, dist_matrix)"
   ]
  },
  {
   "cell_type": "code",
   "execution_count": 496,
   "metadata": {},
   "outputs": [
    {
     "data": {
      "text/plain": [
       "{0.25: ['парт'],\n",
       " 1.0: ['спорт'],\n",
       " 1.2840909090909092: ['кипр'],\n",
       " 1.375: ['спирт'],\n",
       " 1.5714285714285714: ['прот'],\n",
       " 1.9333333333333333: ['прт']}"
      ]
     },
     "execution_count": 496,
     "metadata": {},
     "output_type": "execute_result"
    }
   ],
   "source": [
    "words = ['спорт', 'прт', 'прот', 'парт', 'спирт', 'кипр'] \n",
    "word = 'порт'\n",
    "sort_words(words, word, dist_matrix)"
   ]
  },
  {
   "cell_type": "code",
   "execution_count": 497,
   "metadata": {},
   "outputs": [
    {
     "data": {
      "text/plain": [
       "{0.25: ['мамы'],\n",
       " 0.375: ['маму'],\n",
       " 0.5454545454545454: ['папа'],\n",
       " 0.85: ['мыла'],\n",
       " 1.0: ['смама'],\n",
       " 1.2613636363636362: ['мышь'],\n",
       " 2.7142857142857144: ['мам']}"
      ]
     },
     "execution_count": 497,
     "metadata": {},
     "output_type": "execute_result"
    }
   ],
   "source": [
    "words = ['мам', 'мамы',  'маму', 'мыла', 'папа', 'мышь', 'смама'] \n",
    "word = 'мама'\n",
    "sort_words(words, word, dist_matrix)"
   ]
  },
  {
   "cell_type": "markdown",
   "metadata": {},
   "source": [
    "С этой точки зрения проблема решена, однако есть переставноки вида порт и прот. "
   ]
  },
  {
   "cell_type": "code",
   "execution_count": 531,
   "metadata": {},
   "outputs": [
    {
     "name": "stdout",
     "output_type": "stream",
     "text": [
      "[[0.         1.         2.         3.         4.        ]\n",
      " [1.         0.         1.         2.         3.        ]\n",
      " [2.         1.         0.78571429 1.         2.        ]\n",
      " [3.         2.         1.         1.57142857 2.        ]\n",
      " [4.         3.         2.         2.         1.57142857]]\n"
     ]
    },
    {
     "data": {
      "text/plain": [
       "1.5714285714285714"
      ]
     },
     "execution_count": 531,
     "metadata": {},
     "output_type": "execute_result"
    }
   ],
   "source": [
    "lev_distance2('порт', 'прот', dist_matrix)"
   ]
  },
  {
   "cell_type": "code",
   "execution_count": 532,
   "metadata": {},
   "outputs": [
    {
     "name": "stdout",
     "output_type": "stream",
     "text": [
      "[[0.         1.         2.         3.         4.        ]\n",
      " [1.         0.         1.         2.         3.        ]\n",
      " [2.         1.         0.78571429 0.78571429 1.78571429]\n",
      " [3.         2.         0.78571429 1.57142857 1.78571429]\n",
      " [4.         3.         1.78571429 1.78571429 1.57142857]]\n"
     ]
    },
    {
     "data": {
      "text/plain": [
       "1.5714285714285714"
      ]
     },
     "execution_count": 532,
     "metadata": {},
     "output_type": "execute_result"
    }
   ],
   "source": [
    "lev_distance1('порт', 'прот', dist_matrix)"
   ]
  },
  {
   "cell_type": "markdown",
   "metadata": {},
   "source": [
    "Самое простое решение, которое я вижу - рассматривать расстояние вообще ото всех возможных комбинаций длины заданного слова, однако это сулит большим временем работы."
   ]
  },
  {
   "cell_type": "markdown",
   "metadata": {},
   "source": [
    "Сейчас я пытаюсь, что-то придумать пути с изменение результатов в матрице. Например, если у нас есть последовательность из двух одинаковых чисел, то, возможно, в этом месте есть перестановка, однако пока не очень понятно, как сохранить разницу между предшедмтвующими звуками"
   ]
  },
  {
   "cell_type": "code",
   "execution_count": 534,
   "metadata": {},
   "outputs": [
    {
     "name": "stdout",
     "output_type": "stream",
     "text": [
      "[[0.         1.         2.         3.         4.        ]\n",
      " [1.         0.27272727 1.27272727 2.27272727 3.27272727]\n",
      " [2.         1.27272727 1.05844156 1.         2.        ]\n",
      " [3.         2.27272727 1.         1.78571429 2.        ]\n",
      " [4.         3.27272727 2.         2.         1.78571429]]\n"
     ]
    },
    {
     "data": {
      "text/plain": [
       "1.7857142857142856"
      ]
     },
     "execution_count": 534,
     "metadata": {},
     "output_type": "execute_result"
    }
   ],
   "source": [
    "lev_distance2('порт', 'мрот', dist_matrix)"
   ]
  },
  {
   "cell_type": "code",
   "execution_count": 535,
   "metadata": {},
   "outputs": [
    {
     "name": "stdout",
     "output_type": "stream",
     "text": [
      "[[0.         1.         2.         3.         4.        ]\n",
      " [1.         0.27272727 1.27272727 2.27272727 3.27272727]\n",
      " [2.         1.27272727 1.05844156 1.05844156 2.05844156]\n",
      " [3.         2.27272727 1.05844156 1.84415584 2.05844156]\n",
      " [4.         3.27272727 2.05844156 2.05844156 1.84415584]]\n"
     ]
    },
    {
     "data": {
      "text/plain": [
       "1.844155844155844"
      ]
     },
     "execution_count": 535,
     "metadata": {},
     "output_type": "execute_result"
    }
   ],
   "source": [
    "lev_distance1('порт', 'мрот', dist_matrix)"
   ]
  },
  {
   "cell_type": "code",
   "execution_count": null,
   "metadata": {},
   "outputs": [],
   "source": []
  },
  {
   "cell_type": "code",
   "execution_count": null,
   "metadata": {},
   "outputs": [],
   "source": []
  },
  {
   "cell_type": "code",
   "execution_count": null,
   "metadata": {},
   "outputs": [],
   "source": []
  },
  {
   "cell_type": "code",
   "execution_count": null,
   "metadata": {},
   "outputs": [],
   "source": [
    "cons = {'б': ['п', ], 'г': ['к', 'г’'], \n",
    "        'к': ['к'], 'д': ['т'], \n",
    "        'т': ['т'], 'з': ['с'], \n",
    "        'с': ['с'], 'ж': ['ш'], \n",
    "        'п': ['п'], 'й': ['й'], \n",
    "        'м': ['м'], 'л': ['л'], \n",
    "        'р': ['р'], 'в': ['ф'], \n",
    "        'ф': ['ф'], 'х': ['х'], \n",
    "        'щ': ['щ'],'ш': ['ш'], \n",
    "        'ц': ['ц'], 'нг': ['ŋ']}"
   ]
  },
  {
   "cell_type": "code",
   "execution_count": null,
   "metadata": {},
   "outputs": [],
   "source": []
  }
 ],
 "metadata": {
  "kernelspec": {
   "display_name": "Python 3",
   "language": "python",
   "name": "python3"
  },
  "language_info": {
   "codemirror_mode": {
    "name": "ipython",
    "version": 3
   },
   "file_extension": ".py",
   "mimetype": "text/x-python",
   "name": "python",
   "nbconvert_exporter": "python",
   "pygments_lexer": "ipython3",
   "version": "3.5.2"
  }
 },
 "nbformat": 4,
 "nbformat_minor": 2
}
